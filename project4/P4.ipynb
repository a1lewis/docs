{
 "cells": [
  {
   "cell_type": "code",
   "execution_count": 31,
   "metadata": {},
   "outputs": [
    {
     "name": "stdout",
     "output_type": "stream",
     "text": [
      "0\n",
      "+ 1\n",
      "+ 2\n",
      "+ 3\n",
      "+ 4\n",
      "+ 5\n",
      "+ 6\n",
      "+ 7\n",
      "+ 8\n",
      "+ 9\n",
      "+ 10\n",
      "+ 11\n",
      "+ 12\n",
      "+ 13\n",
      "+ 14\n",
      "= 105\n"
     ]
    }
   ],
   "source": [
    "total = 0\n",
    "num = 1\n",
    "print(0)\n",
    "while total in(range(0,100)):\n",
    "    num = num + 1\n",
    "    print(\"+\", num-1)\n",
    "    total = sum(range(0,num))\n",
    "print(\"=\", total)"
   ]
  },
  {
   "cell_type": "code",
   "execution_count": 32,
   "metadata": {},
   "outputs": [
    {
     "data": {
      "text/plain": [
       "105"
      ]
     },
     "execution_count": 32,
     "metadata": {},
     "output_type": "execute_result"
    }
   ],
   "source": [
    "#Check 1\n",
    "0+1+2+3+4+5+6+7+8+9+10+11+12+13+14"
   ]
  },
  {
   "cell_type": "code",
   "execution_count": 35,
   "metadata": {},
   "outputs": [
    {
     "data": {
      "text/plain": [
       "105"
      ]
     },
     "execution_count": 35,
     "metadata": {},
     "output_type": "execute_result"
    }
   ],
   "source": [
    "#Check 2\n",
    "sum(range(0,num))"
   ]
  },
  {
   "cell_type": "code",
   "execution_count": null,
   "metadata": {},
   "outputs": [],
   "source": []
  }
 ],
 "metadata": {
  "kernelspec": {
   "display_name": "Python 3",
   "language": "python",
   "name": "python3"
  },
  "language_info": {
   "codemirror_mode": {
    "name": "ipython",
    "version": 3
   },
   "file_extension": ".py",
   "mimetype": "text/x-python",
   "name": "python",
   "nbconvert_exporter": "python",
   "pygments_lexer": "ipython3",
   "version": "3.7.3"
  }
 },
 "nbformat": 4,
 "nbformat_minor": 2
}
