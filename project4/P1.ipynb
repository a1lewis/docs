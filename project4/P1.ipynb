{
 "cells": [
  {
   "cell_type": "code",
   "execution_count": 4,
   "metadata": {},
   "outputs": [
    {
     "name": "stdout",
     "output_type": "stream",
     "text": [
      "Odd!\n",
      "Odd!\n",
      "Even!\n",
      "Even!\n",
      "Even!\n",
      "Even!\n",
      "Even!\n",
      "Odd!\n",
      "Even!\n",
      "Even!\n",
      "Even!\n",
      "Even!\n",
      "Odd!\n"
     ]
    }
   ],
   "source": [
    "st = \"Print every word in this sentence that has an even number of letters\"\n",
    "ref = st.split()\n",
    "items = len(ref)\n",
    "timesRun = 0\n",
    "while timesRun < items:\n",
    "    numChar = len(ref[timesRun])\n",
    "    rem = numChar%2\n",
    "    if rem == 0:\n",
    "        print(\"Even!\")\n",
    "    else:\n",
    "        print(\"Odd!\")\n",
    "    timesRun = timesRun + 1"
   ]
  },
  {
   "cell_type": "code",
   "execution_count": 2,
   "metadata": {},
   "outputs": [
    {
     "data": {
      "text/plain": [
       "['Print',\n",
       " 'every',\n",
       " 'word',\n",
       " 'in',\n",
       " 'this',\n",
       " 'sentence',\n",
       " 'that',\n",
       " 'has',\n",
       " 'an',\n",
       " 'even',\n",
       " 'number',\n",
       " 'of',\n",
       " 'letters']"
      ]
     },
     "execution_count": 2,
     "metadata": {},
     "output_type": "execute_result"
    }
   ],
   "source": [
    "ref"
   ]
  },
  {
   "cell_type": "code",
   "execution_count": 3,
   "metadata": {},
   "outputs": [
    {
     "data": {
      "text/plain": [
       "13"
      ]
     },
     "execution_count": 3,
     "metadata": {},
     "output_type": "execute_result"
    }
   ],
   "source": [
    "items"
   ]
  },
  {
   "cell_type": "code",
   "execution_count": null,
   "metadata": {},
   "outputs": [],
   "source": []
  }
 ],
 "metadata": {
  "kernelspec": {
   "display_name": "Python 3",
   "language": "python",
   "name": "python3"
  },
  "language_info": {
   "codemirror_mode": {
    "name": "ipython",
    "version": 3
   },
   "file_extension": ".py",
   "mimetype": "text/x-python",
   "name": "python",
   "nbconvert_exporter": "python",
   "pygments_lexer": "ipython3",
   "version": "3.7.3"
  }
 },
 "nbformat": 4,
 "nbformat_minor": 2
}
